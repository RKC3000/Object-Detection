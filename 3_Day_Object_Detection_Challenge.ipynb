{
  "nbformat": 4,
  "nbformat_minor": 0,
  "metadata": {
    "colab": {
      "provenance": [],
      "authorship_tag": "ABX9TyN8M2oTTKOiiPoMXfotMguu",
      "include_colab_link": true
    },
    "kernelspec": {
      "name": "python3",
      "display_name": "Python 3"
    },
    "language_info": {
      "name": "python"
    }
  },
  "cells": [
    {
      "cell_type": "markdown",
      "metadata": {
        "id": "view-in-github",
        "colab_type": "text"
      },
      "source": [
        "<a href=\"https://colab.research.google.com/github/RKC3000/Object-Detection/blob/main/3_Day_Object_Detection_Challenge.ipynb\" target=\"_parent\"><img src=\"https://colab.research.google.com/assets/colab-badge.svg\" alt=\"Open In Colab\"/></a>"
      ]
    },
    {
      "cell_type": "markdown",
      "source": [
        "**Object Detection Challenge**\n",
        "\n",
        "---"
      ],
      "metadata": {
        "id": "izua9Zc-qyPw"
      }
    },
    {
      "cell_type": "markdown",
      "source": [
        "**YOLOv5** setup"
      ],
      "metadata": {
        "id": "g88iIYptJlrh"
      }
    },
    {
      "cell_type": "code",
      "source": [
        "!git clone https://github.com/ultralytics/yolov5  # clone\n",
        "%cd yolov5\n",
        "%pip install -qr requirements.txt  # install\n",
        "\n",
        "import torch\n",
        "import utils\n",
        "display = utils.notebook_init()  # checks"
      ],
      "metadata": {
        "colab": {
          "base_uri": "https://localhost:8080/"
        },
        "id": "YklsrC6GJOoV",
        "outputId": "19892307-a66f-4bb1-b96d-016a4e53bbab"
      },
      "execution_count": 1,
      "outputs": [
        {
          "output_type": "stream",
          "name": "stderr",
          "text": [
            "YOLOv5 🚀 v7.0-140-g1db9533 Python-3.9.16 torch-2.0.0+cu118 CPU\n"
          ]
        },
        {
          "output_type": "stream",
          "name": "stdout",
          "text": [
            "Setup complete ✅ (2 CPUs, 12.7 GB RAM, 23.4/107.7 GB disk)\n"
          ]
        }
      ]
    },
    {
      "cell_type": "markdown",
      "source": [
        "**Download Dataset**"
      ],
      "metadata": {
        "id": "w4hnoM2vM-jY"
      }
    },
    {
      "cell_type": "code",
      "source": [
        "!bash data/scripts/get_coco.sh"
      ],
      "metadata": {
        "colab": {
          "base_uri": "https://localhost:8080/"
        },
        "id": "j-Icmzg3J7Rc",
        "outputId": "6bac618a-843e-4a57-919b-4fb5bd81f3c7"
      },
      "execution_count": 2,
      "outputs": [
        {
          "output_type": "stream",
          "name": "stdout",
          "text": [
            "Downloading https://github.com/ultralytics/yolov5/releases/download/v1.0/coco2017labels.zip  ...\n",
            "Downloading http://images.cocodataset.org/zips/train2017.zip ...\n",
            "Downloading http://images.cocodataset.org/zips/val2017.zip ...\n",
            "######################################################################## 100.0%\n",
            "######################################################################## 100.0%\n",
            "######################################################################## 100.0%\n"
          ]
        }
      ]
    },
    {
      "cell_type": "code",
      "source": [
        "import os\n",
        "import pandas as pd\n",
        "from torchvision.io import read_image\n",
        "\n",
        "class ob_dec(Dataset):\n",
        "  "
      ],
      "metadata": {
        "id": "RSpllxLmO5YE"
      },
      "execution_count": null,
      "outputs": []
    },
    {
      "cell_type": "code",
      "source": [
        "imagenet_data = torchvision.datasets.ImageNet('/content/datasets/coco128/images/')\n",
        "data_loader = torch.utils.data.DataLoader(imagenet_data,\n",
        "                                          batch_size=4,\n",
        "                                          shuffle=True,\n",
        "                                          num_workers=args.nThreads)"
      ],
      "metadata": {
        "id": "lPwdye_qKUdQ"
      },
      "execution_count": null,
      "outputs": []
    }
  ]
}